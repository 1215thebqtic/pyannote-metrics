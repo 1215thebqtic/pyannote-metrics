{
 "metadata": {
  "name": "",
  "signature": "sha256:e262080ca4306b3d1f52f2c51ad60c448695321823664f6624501881fb26fb50"
 },
 "nbformat": 3,
 "nbformat_minor": 0,
 "worksheets": [
  {
   "cells": [
    {
     "cell_type": "code",
     "collapsed": false,
     "input": [
      "%pylab inline"
     ],
     "language": "python",
     "metadata": {},
     "outputs": [
      {
       "output_type": "stream",
       "stream": "stdout",
       "text": [
        "Populating the interactive namespace from numpy and matplotlib\n"
       ]
      }
     ],
     "prompt_number": 6
    },
    {
     "cell_type": "code",
     "collapsed": false,
     "input": [
      "from pyannote.core import Annotation, Segment"
     ],
     "language": "python",
     "metadata": {},
     "outputs": [],
     "prompt_number": 1
    },
    {
     "cell_type": "code",
     "collapsed": false,
     "input": [
      "reference = Annotation()\n",
      "reference[Segment(0, 10)] = 'A'\n",
      "reference[Segment(12, 20)] = 'B'\n",
      "reference[Segment(24, 27)] = 'A'\n",
      "reference[Segment(30, 40)] = 'C'\n",
      "reference"
     ],
     "language": "python",
     "metadata": {},
     "outputs": [
      {
       "metadata": {},
       "output_type": "pyout",
       "png": "[encoded data removed]",
       "prompt_number": 8,
       "text": [
        "<pyannote.core.annotation.Annotation at 0x1102f76d0>"
       ]
      }
     ],
     "prompt_number": 8
    },
    {
     "cell_type": "code",
     "collapsed": false,
     "input": [
      "hypothesis = Annotation()\n",
      "hypothesis[Segment(2, 13)] = 'a'\n",
      "hypothesis[Segment(13, 14)] = 'd'\n",
      "hypothesis[Segment(14, 20)] = 'b'\n",
      "hypothesis[Segment(22, 38)] = 'c'\n",
      "hypothesis[Segment(38, 40)] = 'd'\n",
      "hypothesis"
     ],
     "language": "python",
     "metadata": {},
     "outputs": [
      {
       "metadata": {},
       "output_type": "pyout",
       "png": "[encoded data removed]",
       "prompt_number": 18,
       "text": [
        "<pyannote.core.annotation.Annotation at 0x1130f0650>"
       ]
      }
     ],
     "prompt_number": 18
    },
    {
     "cell_type": "code",
     "collapsed": false,
     "input": [
      "from pyannote.metrics.diarization import DiarizationErrorRate\n",
      "diarizationErrorRate = DiarizationErrorRate()"
     ],
     "language": "python",
     "metadata": {},
     "outputs": [],
     "prompt_number": 19
    },
    {
     "cell_type": "code",
     "collapsed": false,
     "input": [
      "diarizationErrorRate.optimal_mapping(reference, hypothesis)"
     ],
     "language": "python",
     "metadata": {},
     "outputs": [
      {
       "metadata": {},
       "output_type": "pyout",
       "prompt_number": 20,
       "text": [
        "{'a': 'A', 'b': 'B', 'c': 'C'}"
       ]
      }
     ],
     "prompt_number": 20
    },
    {
     "cell_type": "code",
     "collapsed": false,
     "input": [
      "diarizationErrorRate(reference, hypothesis)"
     ],
     "language": "python",
     "metadata": {},
     "outputs": [
      {
       "metadata": {},
       "output_type": "pyout",
       "prompt_number": 21,
       "text": [
        "0.5161290322580645"
       ]
      }
     ],
     "prompt_number": 21
    },
    {
     "cell_type": "code",
     "collapsed": false,
     "input": [
      "diarizationErrorRate(reference, hypothesis, detailed=True)"
     ],
     "language": "python",
     "metadata": {},
     "outputs": [
      {
       "metadata": {},
       "output_type": "pyout",
       "prompt_number": 22,
       "text": [
        "{u'confusion': 7.0,\n",
        " u'correct': 22.0,\n",
        " u'diarization error rate': 0.5161290322580645,\n",
        " u'false alarm': 7.0,\n",
        " u'missed detection': 2.0,\n",
        " u'total': 31.0}"
       ]
      }
     ],
     "prompt_number": 22
    }
   ],
   "metadata": {}
  }
 ]
}