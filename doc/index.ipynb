{
 "metadata": {
  "name": "",
  "signature": "sha256:9a32254235895d27d4b7a628e663eb498f0ef3b1c894e24456a45e7b66e9b15c"
 },
 "nbformat": 3,
 "nbformat_minor": 0,
 "worksheets": [
  {
   "cells": [
    {
     "cell_type": "code",
     "collapsed": false,
     "input": [
      "%pylab inline"
     ],
     "language": "python",
     "metadata": {},
     "outputs": [
      {
       "output_type": "stream",
       "stream": "stdout",
       "text": [
        "Populating the interactive namespace from numpy and matplotlib\n"
       ]
      }
     ],
     "prompt_number": 1
    },
    {
     "cell_type": "heading",
     "level": 1,
     "metadata": {},
     "source": [
      "Documentation for `pyannote.metrics`"
     ]
    },
    {
     "cell_type": "heading",
     "level": 2,
     "metadata": {},
     "source": [
      "Install"
     ]
    },
    {
     "cell_type": "markdown",
     "metadata": {},
     "source": [
      "`pyannote.metrics` package can be installed the easy way:\n",
      "```bash\n",
      "$ pip install pyannote.metrics\n",
      "```"
     ]
    },
    {
     "cell_type": "code",
     "collapsed": false,
     "input": [
      "from pyannote.core import Annotation, Segment\n",
      "reference = Annotation()\n",
      "reference[Segment(0, 10)] = 'A'\n",
      "reference[Segment(12, 20)] = 'B'\n",
      "reference[Segment(24, 27)] = 'A'\n",
      "reference[Segment(30, 40)] = 'C'\n",
      "hypothesis = Annotation()\n",
      "hypothesis[Segment(2, 13)] = 'a'\n",
      "hypothesis[Segment(13, 14)] = 'd'\n",
      "hypothesis[Segment(14, 20)] = 'b'\n",
      "hypothesis[Segment(22, 38)] = 'c'\n",
      "hypothesis[Segment(38, 40)] = 'd'"
     ],
     "language": "python",
     "metadata": {},
     "outputs": [],
     "prompt_number": 3
    },
    {
     "cell_type": "code",
     "collapsed": false,
     "input": [
      "reference"
     ],
     "language": "python",
     "metadata": {},
     "outputs": [
      {
       "metadata": {},
       "output_type": "pyout",
       "png": "[encoded data removed]",
       "prompt_number": 4,
       "text": [
        "<pyannote.core.annotation.Annotation at 0x110e148d0>"
       ]
      }
     ],
     "prompt_number": 4
    },
    {
     "cell_type": "code",
     "collapsed": false,
     "input": [
      "hypothesis"
     ],
     "language": "python",
     "metadata": {},
     "outputs": [
      {
       "metadata": {},
       "output_type": "pyout",
       "png": "[encoded data removed]",
       "prompt_number": 5,
       "text": [
        "<pyannote.core.annotation.Annotation at 0x110e14a50>"
       ]
      }
     ],
     "prompt_number": 5
    },
    {
     "cell_type": "heading",
     "level": 2,
     "metadata": {},
     "source": [
      "Available metrics"
     ]
    },
    {
     "cell_type": "heading",
     "level": 3,
     "metadata": {},
     "source": [
      "Diarization ([pyannote.metrics.diarization](pyannote.metrics.diarization.ipynb))"
     ]
    },
    {
     "cell_type": "code",
     "collapsed": false,
     "input": [
      "from pyannote.metrics.diarization import DiarizationErrorRate\n",
      "metric = DiarizationErrorRate()"
     ],
     "language": "python",
     "metadata": {},
     "outputs": [],
     "prompt_number": 6
    },
    {
     "cell_type": "code",
     "collapsed": false,
     "input": [
      "metric(reference, hypothesis)"
     ],
     "language": "python",
     "metadata": {},
     "outputs": [
      {
       "metadata": {},
       "output_type": "pyout",
       "prompt_number": 8,
       "text": [
        "0.5161290322580645"
       ]
      }
     ],
     "prompt_number": 8
    },
    {
     "cell_type": "code",
     "collapsed": false,
     "input": [
      "metric(reference, hypothesis, detailed=True)"
     ],
     "language": "python",
     "metadata": {},
     "outputs": [
      {
       "metadata": {},
       "output_type": "pyout",
       "prompt_number": 12,
       "text": [
        "{u'confusion': 7.0,\n",
        " u'correct': 22.0,\n",
        " u'diarization error rate': 0.5161290322580645,\n",
        " u'false alarm': 7.0,\n",
        " u'missed detection': 2.0,\n",
        " u'total': 31.0}"
       ]
      }
     ],
     "prompt_number": 12
    },
    {
     "cell_type": "code",
     "collapsed": false,
     "input": [
      "mapping = metric.optimal_mapping(reference, hypothesis)\n",
      "mapping"
     ],
     "language": "python",
     "metadata": {},
     "outputs": [
      {
       "metadata": {},
       "output_type": "pyout",
       "prompt_number": 13,
       "text": [
        "{'a': 'A', 'b': 'B', 'c': 'C'}"
       ]
      }
     ],
     "prompt_number": 13
    },
    {
     "cell_type": "code",
     "collapsed": false,
     "input": [
      "hypothesis.translate(mapping)"
     ],
     "language": "python",
     "metadata": {},
     "outputs": [
      {
       "metadata": {},
       "output_type": "pyout",
       "png": "[encoded data removed]",
       "prompt_number": 14,
       "text": [
        "<pyannote.core.annotation.Annotation at 0x111465990>"
       ]
      }
     ],
     "prompt_number": 14
    },
    {
     "cell_type": "heading",
     "level": 2,
     "metadata": {},
     "source": [
      "Contribute"
     ]
    },
    {
     "cell_type": "markdown",
     "metadata": {},
     "source": [
      "`pyannote.metrics` is on [Github](https://github.com/pyannote/pyannote-metrics).  \n",
      " \n",
      " \n",
      " Fork and pull requests are very welcome!"
     ]
    }
   ],
   "metadata": {}
  }
 ]
}