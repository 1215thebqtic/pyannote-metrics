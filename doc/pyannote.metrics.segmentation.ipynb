{
 "cells": [
  {
   "cell_type": "code",
   "execution_count": 1,
   "metadata": {
    "collapsed": false
   },
   "outputs": [
    {
     "name": "stdout",
     "output_type": "stream",
     "text": [
      "Populating the interactive namespace from numpy and matplotlib\n"
     ]
    }
   ],
   "source": [
    "%pylab inline"
   ]
  },
  {
   "cell_type": "markdown",
   "metadata": {},
   "source": [
    "# Segmentation evaluation metrics"
   ]
  },
  {
   "cell_type": "code",
   "execution_count": 2,
   "metadata": {
    "collapsed": false
   },
   "outputs": [],
   "source": [
    "from pyannote.core import Timeline, Segment"
   ]
  },
  {
   "cell_type": "code",
   "execution_count": 3,
   "metadata": {
    "collapsed": false
   },
   "outputs": [
    {
     "data": {
      "image/png": "[encoded data removed]",
      "text/plain": [
       "<Timeline(uri=None, segments=[<Segment(0, 10)>, <Segment(10, 12)>, <Segment(12, 20)>, <Segment(20, 24)>, <Segment(24, 27)>, <Segment(27, 30)>, <Segment(30, 40)>])>"
      ]
     },
     "execution_count": 3,
     "metadata": {},
     "output_type": "execute_result"
    }
   ],
   "source": [
    "reference = Timeline()\n",
    "reference.add(Segment(0, 10))\n",
    "reference.add(Segment(10, 12))\n",
    "reference.add(Segment(12, 20))\n",
    "reference.add(Segment(20, 24))\n",
    "reference.add(Segment(24, 27))\n",
    "reference.add(Segment(27, 30))\n",
    "reference.add(Segment(30, 40))\n",
    "reference"
   ]
  },
  {
   "cell_type": "code",
   "execution_count": 4,
   "metadata": {
    "collapsed": false
   },
   "outputs": [
    {
     "data": {
      "image/png": "[encoded data removed]",
      "text/plain": [
       "<Timeline(uri=None, segments=[<Segment(0, 10)>, <Segment(10, 20)>, <Segment(20, 23)>, <Segment(23, 27)>, <Segment(27, 38)>, <Segment(38, 40)>])>"
      ]
     },
     "execution_count": 4,
     "metadata": {},
     "output_type": "execute_result"
    }
   ],
   "source": [
    "hypothesis = Timeline()\n",
    "hypothesis.add(Segment(0, 10))\n",
    "hypothesis.add(Segment(10, 20))\n",
    "hypothesis.add(Segment(20, 23))\n",
    "hypothesis.add(Segment(23, 27))\n",
    "hypothesis.add(Segment(27, 38))\n",
    "hypothesis.add(Segment(38, 40))\n",
    "hypothesis"
   ]
  },
  {
   "cell_type": "markdown",
   "metadata": {},
   "source": [
    "## Precision and recall"
   ]
  },
  {
   "cell_type": "markdown",
   "metadata": {},
   "source": [
    "`SegmentationPrecision` and `SegmentationRecall` evaluate segmentation as a boundary detection task."
   ]
  },
  {
   "cell_type": "code",
   "execution_count": 5,
   "metadata": {
    "collapsed": false
   },
   "outputs": [
    {
     "name": "stdout",
     "output_type": "stream",
     "text": [
      "Precision = 0.600\n",
      "Recall = 0.500\n"
     ]
    }
   ],
   "source": [
    "from pyannote.metrics.segmentation import SegmentationPrecision, SegmentationRecall\n",
    "precision = SegmentationPrecision()\n",
    "recall = SegmentationRecall()\n",
    "print \"Precision = {0:.3f}\".format(precision(reference, hypothesis))\n",
    "print \"Recall = {0:.3f}\".format(recall(reference, hypothesis))"
   ]
  },
  {
   "cell_type": "markdown",
   "metadata": {},
   "source": [
    "### Details"
   ]
  },
  {
   "cell_type": "code",
   "execution_count": 6,
   "metadata": {
    "collapsed": false
   },
   "outputs": [
    {
     "data": {
      "text/plain": [
       "{u'number of boundaries': 5,\n",
       " u'number of matches': 3.0,\n",
       " u'segmentation precision': 0.6}"
      ]
     },
     "execution_count": 6,
     "metadata": {},
     "output_type": "execute_result"
    }
   ],
   "source": [
    "precision(reference, hypothesis, detailed=True)"
   ]
  },
  {
   "cell_type": "code",
   "execution_count": 7,
   "metadata": {
    "collapsed": false
   },
   "outputs": [
    {
     "data": {
      "text/plain": [
       "{u'number of boundaries': 6,\n",
       " u'number of matches': 3.0,\n",
       " u'segmentation recall': 0.5}"
      ]
     },
     "execution_count": 7,
     "metadata": {},
     "output_type": "execute_result"
    }
   ],
   "source": [
    "recall(reference, hypothesis, detailed=True)"
   ]
  },
  {
   "cell_type": "markdown",
   "metadata": {},
   "source": [
    "### Tolerance"
   ]
  },
  {
   "cell_type": "code",
   "execution_count": 8,
   "metadata": {
    "collapsed": false
   },
   "outputs": [
    {
     "data": {
      "text/plain": [
       "{u'number of boundaries': 5,\n",
       " u'number of matches': 4.0,\n",
       " u'segmentation precision': 0.8}"
      ]
     },
     "execution_count": 8,
     "metadata": {},
     "output_type": "execute_result"
    }
   ],
   "source": [
    "precision = SegmentationPrecision(tolerance=1.0)\n",
    "precision(reference, hypothesis, detailed=True)"
   ]
  },
  {
   "cell_type": "code",
   "execution_count": 9,
   "metadata": {
    "collapsed": false
   },
   "outputs": [
    {
     "data": {
      "text/plain": [
       "{u'number of boundaries': 6,\n",
       " u'number of matches': 4.0,\n",
       " u'segmentation recall': 0.6666666666666666}"
      ]
     },
     "execution_count": 9,
     "metadata": {},
     "output_type": "execute_result"
    }
   ],
   "source": [
    "recall = SegmentationRecall(tolerance=1.0)\n",
    "recall(reference, hypothesis, detailed=True)"
   ]
  },
  {
   "cell_type": "markdown",
   "metadata": {},
   "source": [
    "## Purity and coverage"
   ]
  },
  {
   "cell_type": "markdown",
   "metadata": {},
   "source": [
    "`SegmentationPurity` and `SegmentationCoverage` provide information about under- or over-segmentation.\n",
    "Low purity usually indicates under-segmentation, while low coverage stands for over-segmentation."
   ]
  },
  {
   "cell_type": "code",
   "execution_count": 10,
   "metadata": {
    "collapsed": false
   },
   "outputs": [
    {
     "name": "stdout",
     "output_type": "stream",
     "text": [
      "Purity = 0.850\n",
      "Coverage = 0.925\n"
     ]
    }
   ],
   "source": [
    "from pyannote.metrics.segmentation import SegmentationPurity, SegmentationCoverage\n",
    "purity = SegmentationPurity()\n",
    "coverage = SegmentationCoverage()\n",
    "print \"Purity = {0:.3f}\".format(purity(reference, hypothesis))\n",
    "print \"Coverage = {0:.3f}\".format(coverage(reference, hypothesis))"
   ]
  }
 ],
 "metadata": {
  "kernelspec": {
   "display_name": "Python 2",
   "language": "python",
   "name": "python2"
  },
  "language_info": {
   "codemirror_mode": {
    "name": "ipython",
    "version": 2
   },
   "file_extension": ".py",
   "mimetype": "text/x-python",
   "name": "python",
   "nbconvert_exporter": "python",
   "pygments_lexer": "ipython2",
   "version": "2.7.10"
  }
 },
 "nbformat": 4,
 "nbformat_minor": 0
}
